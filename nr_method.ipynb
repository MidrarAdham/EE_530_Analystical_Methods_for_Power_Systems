{
 "cells": [
  {
   "cell_type": "code",
   "execution_count": 164,
   "id": "fac33f2a",
   "metadata": {},
   "outputs": [],
   "source": [
    "import sympy as sp\n",
    "import numpy as np\n",
    "import pandas as pd\n",
    "from pprint import pprint as pp\n",
    "from scipy.sparse import csc_matrix"
   ]
  },
  {
   "cell_type": "code",
   "execution_count": 165,
   "id": "dbdfa65e",
   "metadata": {},
   "outputs": [],
   "source": [
    "class NRMethod:\n",
    "    \n",
    "    def __init__(self):\n",
    "        # self.bus_names_indices = {'Allen':1,\n",
    "        #                           'Betty':2,\n",
    "        #                           'Clyde':3,\n",
    "        #                           'Doug':4,\n",
    "        #                           'Eve':5\n",
    "        #                           }\n",
    "        \n",
    "        # self.z = {'Allen-Betty':0.009+0.0041j,\n",
    "        #           'Allen-Doug':00.007+0.055j,\n",
    "        #           'Doug-Clyde':0.011+0.061j,\n",
    "        #           'Doug-Eve':0.006+0.045j,\n",
    "        #           'Eve-Clyde':0.010+0.051j\n",
    "        #           }\n",
    "        \n",
    "        self.data = pd.DataFrame({\n",
    "            'Bus': ['Allen', 'Betty', 'Clyde', 'Doug', 'Eve'],\n",
    "            'Type': ['slack', 'pv', 'pq', 'pq', 'pq'],\n",
    "            'index': [1,2,3,4,5],\n",
    "            'p_gen': [0,210,0,0,0],\n",
    "            'q_gen': [0,50,0,0,0],\n",
    "            'p_load': [0,0,110,100,150],\n",
    "            'q_load': [0,0,85,95,120],\n",
    "            'q_cap': [0,0,150,50,0],\n",
    "            'volts': [0.98,1,1,1,1]\n",
    "            })\n",
    "        \n",
    "        self.tl_details = pd.DataFrame({\n",
    "            'From': ['Allen-1', 'Betty-2','Allen-1', 'Doug-4', 'Doug-4', 'Clyde-3'],\n",
    "            'To': ['Betty-2', 'Eve-5', 'Doug-4', 'Eve-5', 'Clyde-3', 'Eve-5'],\n",
    "            'Rse': [0.009,0.006,0.007,0.006,0.011,0.010],\n",
    "            'Xse': [0.041,0.037,0.055,0.045,0.061,0.051],\n",
    "            'MVA': [125,250, 200,125,80,75]\n",
    "            })\n",
    "        \n",
    "        \n",
    "        # flat start\n",
    "        self.delta2 = 0\n",
    "        self.delta3 = 0\n",
    "        self.delta4 = 0\n",
    "        self.delta5 = 0\n",
    "        self.v3 = 1\n",
    "        self.v4 = 1\n",
    "        self.v5 = 1"
   ]
  },
  {
   "cell_type": "code",
   "execution_count": 166,
   "id": "c232080b",
   "metadata": {},
   "outputs": [],
   "source": [
    "# This is just a decorator to attach methods to the class. Annoying jyputer stuff\n",
    "\n",
    "def attach_to (cls):\n",
    "    def wrapper(func):\n",
    "        setattr(cls, func.__name__, func)\n",
    "        return func\n",
    "    return wrapper"
   ]
  },
  {
   "cell_type": "code",
   "execution_count": 167,
   "id": "4a597882",
   "metadata": {},
   "outputs": [],
   "source": [
    "@attach_to(NRMethod)\n",
    "def round_complex(self, num):\n",
    "        '''\n",
    "        Not called in main.\n",
    "        '''\n",
    "        real = round(num.real, 3)\n",
    "        imag = round(num.imag, 3)\n",
    "        return complex(real, imag)"
   ]
  },
  {
   "cell_type": "code",
   "execution_count": 168,
   "id": "81f8d559",
   "metadata": {},
   "outputs": [],
   "source": [
    "@attach_to(NRMethod)\n",
    "def rect_polar(self, num):\n",
    "        '''\n",
    "        Not called in main.\n",
    "        '''\n",
    "        mag = round(abs(num), 3)\n",
    "        ang = round(np.angle(num, deg=True), 3)\n",
    "        return mag, ang"
   ]
  },
  {
   "cell_type": "code",
   "execution_count": null,
   "id": "2f26df7a",
   "metadata": {},
   "outputs": [],
   "source": [
    "@attach_to(NRMethod)\n",
    "def y_bus (self):\n",
    "        '''\n",
    "        Called in main. \n",
    "            - Create the Y bus matrix. A fundamental part of the NR solution\n",
    "            - Create the polar and rectangular forms of the Y values. Makes it easier to process later.\n",
    "        '''\n",
    "        y = {'Y_complex':[], 'Y_magnitude':[], 'Y_angle':[]}\n",
    "        for index, row in self.tl_details.iterrows():\n",
    "            r = row['Rse']\n",
    "            x = row['Xse']\n",
    "            z = complex(r,x)\n",
    "            y_comp = self.round_complex(num=1/z)\n",
    "            y_mag, y_ang = self.rect_polar(num=y_comp)\n",
    "            y['Y_complex'].append(y_comp)\n",
    "            y['Y_magnitude'].append(y_mag)\n",
    "            y['Y_angle'].append(y_ang)\n",
    "        # concatenate self.y into self.tl_details\n",
    "        self.tl_details_conc = pd.concat([self.tl_details, pd.DataFrame(y)], axis=1)\n"
   ]
  },
  {
   "cell_type": "code",
   "execution_count": 170,
   "id": "06ed9153",
   "metadata": {},
   "outputs": [],
   "source": [
    "@attach_to(NRMethod)\n",
    "def unknown_vector(self):\n",
    "        '''\n",
    "        Called in main. Creating the output vector, containing the voltage and the\n",
    "        angle vectors for each unknown bus.\n",
    "        \n",
    "        \n",
    "        '''\n",
    "        \n",
    "        unknown = sp.symbols(f\"P1 theta2 theta3 theta4 theta5\")\n",
    "        unknown_vec = sp.Matrix(unknown)\n",
    "        return unknown_vec"
   ]
  },
  {
   "cell_type": "code",
   "execution_count": 171,
   "id": "354e1b7d",
   "metadata": {},
   "outputs": [],
   "source": [
    "@attach_to(NRMethod)\n",
    "def known_vector(self):\n",
    "    known = sp.symbols(\"delta2 delta3 delta4 delta5 V3 V4 V5\")\n",
    "    known_vec = sp.Matrix(known)\n",
    "    return known_vec"
   ]
  },
  {
   "cell_type": "code",
   "execution_count": 172,
   "id": "8dd0c5eb",
   "metadata": {},
   "outputs": [],
   "source": [
    "nr = NRMethod()"
   ]
  },
  {
   "cell_type": "code",
   "execution_count": 173,
   "id": "feb459f2",
   "metadata": {},
   "outputs": [
    {
     "data": {
      "text/latex": [
       "$\\displaystyle \\left[\\begin{matrix}P_{1}\\\\\\theta_{2}\\\\\\theta_{3}\\\\\\theta_{4}\\\\\\theta_{5}\\end{matrix}\\right]$"
      ],
      "text/plain": [
       "Matrix([\n",
       "[    P1],\n",
       "[theta2],\n",
       "[theta3],\n",
       "[theta4],\n",
       "[theta5]])"
      ]
     },
     "execution_count": 173,
     "metadata": {},
     "output_type": "execute_result"
    }
   ],
   "source": [
    "nr.y_bus()\n",
    "nr.unknown_vector()"
   ]
  },
  {
   "cell_type": "code",
   "execution_count": 174,
   "id": "b682dc56",
   "metadata": {},
   "outputs": [],
   "source": [
    "nr.known_vector()\n",
    "y_bus_matrix = []\n",
    "y_diag = []\n",
    "y_offdiag = []\n",
    "for key, val in nr.tl_details_conc.iterrows():\n",
    "    if val['From'] == val['To']:\n",
    "        y_diag.append(f\"{val['Y_complex']}\")\n",
    "    else:\n",
    "        y_offdiag.append(f\"{val['Y_complex']}\")\n",
    "    # y = f\"y:{val['From']}-{val['To']}\"\n",
    "    # print(y)\n",
    "    # y_bus_matrix.append(f\"{val['Y_complex']}\")\n",
    "    # print(y_bus_matrix)\n",
    "# print(y_offdiag)\n",
    "# print(nr.tl_details_conc)"
   ]
  }
 ],
 "metadata": {
  "kernelspec": {
   "display_name": "Python 3",
   "language": "python",
   "name": "python3"
  },
  "language_info": {
   "codemirror_mode": {
    "name": "ipython",
    "version": 3
   },
   "file_extension": ".py",
   "mimetype": "text/x-python",
   "name": "python",
   "nbconvert_exporter": "python",
   "pygments_lexer": "ipython3",
   "version": "3.10.12"
  }
 },
 "nbformat": 4,
 "nbformat_minor": 5
}
